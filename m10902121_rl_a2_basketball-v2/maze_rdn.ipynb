{
 "cells": [
  {
   "cell_type": "code",
   "execution_count": 2,
   "metadata": {},
   "outputs": [],
   "source": [
    "import numpy as np\n",
    "import random\n",
    "def pad_with(vector, pad_width, iaxis, kwargs):\n",
    "  pad_value = kwargs.get('padder', 10)\n",
    "  vector[:pad_width[0]] = pad_value\n",
    "  vector[-pad_width[1]:] = pad_value\n",
    "def create_field(w=6, h=9, num_opp=5):\n",
    "  HEIGHT = h\n",
    "  WIDTH  = w\n",
    "  NumOpp = num_opp\n",
    "  field = np.zeros((HEIGHT, WIDTH))\n",
    "  # 1:ball, 2:basket, 1.new_ball_pos(tmp) 3:opponents, 4:agent 5:outside\n",
    "\n",
    "  # create ball\n",
    "  ball_pos = np.array([HEIGHT//2, 0])\n",
    "  # field[HEIGHT//2][0] = 1\n",
    "\n",
    "  # create basket\n",
    "  basket_pos = np.array([HEIGHT//2, WIDTH-1])\n",
    "  field[HEIGHT//2][WIDTH-1] = 2\n",
    "\n",
    "  # mark new_ball_pos\n",
    "  field[HEIGHT//2][round(WIDTH*0.8)] = 1\n",
    "\n",
    "  opp_pos = [] \n",
    "  # create the opponents\n",
    "  x = random.randint(0, HEIGHT-1)\n",
    "  y = random.randint(0, WIDTH-1)\n",
    "  # prevent opponent in the cell of balls\n",
    "  for i in range(NumOpp): \n",
    "    while field[x][y] != 0:\n",
    "      x = random.randint(0, HEIGHT-1)\n",
    "      y = random.randint(0, WIDTH-1)\n",
    "    field[x][y] = 3\n",
    "    opp_pos.append(np.array([x, y]))\n",
    "  \n",
    "  # de-mark new_ball_pos\n",
    "  field[HEIGHT//2][round(WIDTH*0.8)] = 0\n",
    "\n",
    "  # in order the boundary condition\n",
    "  return field, basket_pos, ball_pos, opp_pos \n",
    "def create_agent(field):\n",
    "  h, w = field.shape\n",
    "  x = random.randint(0, HEIGHT-1)\n",
    "  y = random.randint(0, WIDTH-1)\n",
    "  while field[x][y] != 0:\n",
    "    x = random.randint(0, HEIGHT-1)\n",
    "    y = random.randint(0, WIDTH-1)\n",
    "  # field[x][y] = 4\n",
    "  agent_pos = np.array([x, y])\n",
    "  return field, agent_pos"
   ]
  },
  {
   "cell_type": "code",
   "execution_count": 3,
   "metadata": {},
   "outputs": [
    {
     "name": "stdout",
     "output_type": "stream",
     "text": [
      "field\n",
      "[[0. 3. 0. 3. 0. 0. 0. 3. 0. 0. 0. 0. 0. 0. 0.]\n",
      " [3. 3. 0. 3. 0. 3. 3. 0. 0. 0. 0. 0. 0. 0. 0.]\n",
      " [0. 3. 0. 3. 3. 3. 0. 0. 0. 0. 0. 0. 0. 0. 0.]\n",
      " [0. 0. 0. 3. 0. 0. 0. 0. 0. 0. 0. 0. 0. 0. 3.]\n",
      " [0. 0. 0. 3. 3. 0. 0. 0. 0. 3. 3. 0. 0. 0. 0.]\n",
      " [0. 3. 3. 0. 0. 3. 0. 0. 0. 0. 0. 3. 0. 3. 3.]\n",
      " [0. 3. 0. 3. 0. 0. 0. 3. 0. 0. 0. 3. 0. 3. 2.]\n",
      " [3. 0. 0. 3. 0. 0. 0. 0. 3. 0. 3. 0. 0. 0. 0.]\n",
      " [0. 0. 0. 0. 0. 3. 0. 0. 3. 0. 3. 3. 3. 0. 3.]\n",
      " [0. 3. 0. 0. 0. 3. 3. 3. 0. 3. 0. 0. 0. 0. 3.]\n",
      " [0. 0. 0. 0. 0. 3. 0. 0. 0. 0. 0. 0. 0. 0. 0.]\n",
      " [0. 0. 0. 0. 0. 0. 0. 0. 3. 0. 0. 3. 0. 3. 3.]]\n",
      "basket: [ 6 14]\n",
      "[6 0]\n",
      "opponent:[array([5, 2]), array([ 9, 14]), array([9, 9]), array([9, 6]), array([0, 1]), array([9, 7]), array([1, 1]), array([ 8, 14]), array([1, 3]), array([1, 6]), array([2, 1]), array([0, 7]), array([1, 0]), array([11,  8]), array([7, 8]), array([11, 14]), array([ 6, 13]), array([ 3, 14]), array([ 5, 13]), array([2, 3]), array([9, 1]), array([ 8, 10]), array([4, 4]), array([6, 1]), array([7, 0]), array([2, 4]), array([ 5, 11]), array([6, 7]), array([ 8, 11]), array([ 7, 10]), array([11, 11]), array([5, 1]), array([1, 5]), array([7, 3]), array([ 6, 11]), array([3, 3]), array([ 4, 10]), array([2, 5]), array([ 5, 14]), array([5, 5]), array([0, 3]), array([9, 5]), array([4, 9]), array([11, 13]), array([4, 3]), array([ 8, 12]), array([8, 8]), array([10,  5]), array([8, 5]), array([6, 3])]\n",
      "agent:[10 13]\n"
     ]
    }
   ],
   "source": [
    "HEIGHT= 12\n",
    "WIDTH = 15\n",
    "NUM_OPP = 50\n",
    "field, basket_pos, ball_pos, opp_pos = create_field(w=WIDTH,h=HEIGHT,num_opp=NUM_OPP)\n",
    "field, agent_pos = create_agent(field)\n",
    "print('field')\n",
    "print(field)\n",
    "print(f'basket: {basket_pos}')\n",
    "print(f'{ball_pos}')\n",
    "print(f'opponent:{opp_pos}')\n",
    "print(f'agent:{agent_pos}')"
   ]
  }
 ],
 "metadata": {
  "interpreter": {
   "hash": "3093e658374b7d93070b784fd62287419d9faad57edfccc7dfe0965cff09b976"
  },
  "kernelspec": {
   "display_name": "Python 3.8.12 64-bit ('BA': conda)",
   "language": "python",
   "name": "python3"
  },
  "language_info": {
   "codemirror_mode": {
    "name": "ipython",
    "version": 3
   },
   "file_extension": ".py",
   "mimetype": "text/x-python",
   "name": "python",
   "nbconvert_exporter": "python",
   "pygments_lexer": "ipython3",
   "version": "3.10.2"
  },
  "orig_nbformat": 4
 },
 "nbformat": 4,
 "nbformat_minor": 2
}
